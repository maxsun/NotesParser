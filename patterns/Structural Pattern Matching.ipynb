{
 "cells": [
  {
   "cell_type": "code",
   "execution_count": 1,
   "metadata": {},
   "outputs": [],
   "source": [
    "import re\n",
    "from pprint import pprint\n",
    "from typing import NamedTuple, Tuple, List\n",
    "\n",
    "import matplotlib.pyplot as plt\n",
    "from IPython.display import set_matplotlib_formats, Image\n",
    "%matplotlib inline\n",
    "set_matplotlib_formats('svg')"
   ]
  },
  {
   "cell_type": "code",
   "execution_count": 2,
   "metadata": {},
   "outputs": [
    {
     "name": "stdout",
     "output_type": "stream",
     "text": [
      "versity of London, and proceeded to Netley to go through the course\n",
      "prescribed for surgeons in the army. Having completed my studies there,\n",
      "I was duly attached to the Fifth Northumberland Fusiliers as Assistant\n",
      "Surgeon. The regiment was stationed in India at the time, and before\n",
      "I could join it, the second Afghan war had broken out. On landing at\n",
      "Bombay, I learned that my corps had advanced through the passes, and\n",
      "was already deep in the enemy’s country. I followed, however, with many\n",
      "other offi\n"
     ]
    }
   ],
   "source": [
    "text_path = './sherlock.txt'\n",
    "text = open(text_path).read()\n",
    "\n",
    "print(text[2000:2500])"
   ]
  },
  {
   "cell_type": "code",
   "execution_count": 3,
   "metadata": {},
   "outputs": [
    {
     "data": {
      "image/png": "[encoded data removed]",
      "text/plain": [
       "Tree('word', [Tree('chr', ['c']), Tree('chr', ['a']), Tree('chr', ['t'])])"
      ]
     },
     "metadata": {},
     "output_type": "display_data"
    }
   ],
   "source": [
    "from nltk.tree import Tree\n",
    "from IPython.display import display\n",
    "\n",
    "tree = Tree.fromstring('(word (chr c) (chr a) (chr t))')\n",
    "display(tree)"
   ]
  },
  {
   "cell_type": "code",
   "execution_count": 4,
   "metadata": {},
   "outputs": [],
   "source": [
    "class Token(NamedTuple):\n",
    "    type: str\n",
    "    text: str\n",
    "    match: Tuple[int, int]\n",
    "        \n",
    "    def update_type(self, new_type: str) -> 'Token':\n",
    "        return Token(\n",
    "            type=new_type,\n",
    "            text=self.text,\n",
    "            match=self.match\n",
    "        )\n"
   ]
  },
  {
   "cell_type": "code",
   "execution_count": 5,
   "metadata": {},
   "outputs": [
    {
     "data": {
      "text/plain": [
       "True"
      ]
     },
     "execution_count": 5,
     "metadata": {},
     "output_type": "execute_result"
    }
   ],
   "source": [
    "import numpy as np\n",
    "\n",
    "class Range(NamedTuple):\n",
    "    start: int\n",
    "    end: int\n",
    "        \n",
    "    def __repr__(self):\n",
    "        return '(%s, %s)' % (self.start, self.end)\n",
    "    \n",
    "    def __contains__(self, other: 'Range'):\n",
    "        return self.start <= other.start and self.end >= other.end\n",
    "\n",
    "    def intersect(self, other: 'Range') -> 'Range':\n",
    "        return Range(max(self.start, other.start), min(self.end, other.end))\n",
    "\n",
    "a = Range(7, 10)\n",
    "b = Range(6, 11)\n",
    "\n",
    "a in b"
   ]
  },
  {
   "cell_type": "code",
   "execution_count": 6,
   "metadata": {},
   "outputs": [
    {
     "name": "stdout",
     "output_type": "stream",
     "text": [
      "[Token(type='word', text='strength', match=(11122, 11130)),\n",
      " Token(type='word', text='for', match=(11131, 11134)),\n",
      " Token(type='word', text='which', match=(11135, 11140)),\n",
      " Token(type='word', text='I', match=(11141, 11142)),\n",
      " Token(type='word', text='should', match=(11143, 11149)),\n",
      " Token(type='word', text='hardly', match=(11150, 11156)),\n",
      " Token(type='word', text='have', match=(11157, 11161)),\n",
      " Token(type='word', text='given', match=(11162, 11167)),\n",
      " Token(type='word', text='him', match=(11168, 11171)),\n",
      " Token(type='word', text='credit', match=(11172, 11178))]\n"
     ]
    }
   ],
   "source": [
    "tokens = []\n",
    "\n",
    "patterns = {\n",
    "    'word': re.compile(r'\\b\\w+\\b'),\n",
    "    'punct': re.compile(r'[.,\\/#!$%\\^&\\*;:{}=\\-_`~()]'),\n",
    "    'caps': re.compile(r'[A-Z]'),\n",
    "    'sent_end': re.compile(r'[.!?]'),\n",
    "    'whitespace': re.compile(r'\\s+')\n",
    "}\n",
    "\n",
    "\n",
    "for pat_type, pat in patterns.items():\n",
    "    for m in re.finditer(pat, text):\n",
    "        r = Range(m.span(0)[0], m.span(0)[1])\n",
    "        tokens.append(Token(pat_type, m.group(0), r))\n",
    "    \n",
    "pprint(tokens[2000:2010])"
   ]
  },
  {
   "cell_type": "code",
   "execution_count": 7,
   "metadata": {},
   "outputs": [
    {
     "data": {
      "text/plain": [
       "[Token(type='whitespace', text=' ', match=(2007, 2008)),\n",
       " Token(type='word', text='of', match=(2008, 2010)),\n",
       " Token(type='whitespace', text=' ', match=(2010, 2011)),\n",
       " Token(type='word', text='London', match=(2011, 2017)),\n",
       " Token(type='caps', text='L', match=(2011, 2012)),\n",
       " Token(type='punct', text=',', match=(2017, 2018)),\n",
       " Token(type='whitespace', text=' ', match=(2018, 2019)),\n",
       " Token(type='word', text='and', match=(2019, 2022)),\n",
       " Token(type='whitespace', text=' ', match=(2022, 2023)),\n",
       " Token(type='word', text='proceeded', match=(2023, 2032)),\n",
       " Token(type='whitespace', text=' ', match=(2032, 2033)),\n",
       " Token(type='word', text='to', match=(2033, 2035)),\n",
       " Token(type='whitespace', text=' ', match=(2035, 2036)),\n",
       " Token(type='word', text='Netley', match=(2036, 2042)),\n",
       " Token(type='caps', text='N', match=(2036, 2037)),\n",
       " Token(type='whitespace', text=' ', match=(2042, 2043)),\n",
       " Token(type='word', text='to', match=(2043, 2045)),\n",
       " Token(type='whitespace', text=' ', match=(2045, 2046)),\n",
       " Token(type='word', text='go', match=(2046, 2048)),\n",
       " Token(type='whitespace', text=' ', match=(2048, 2049))]"
      ]
     },
     "execution_count": 7,
     "metadata": {},
     "output_type": "execute_result"
    }
   ],
   "source": [
    "def tokens_in_range(tokens: List[Token], rng: Range) -> List[Token]:\n",
    "    results = []\n",
    "    for t in tokens:\n",
    "        if t.match in rng:\n",
    "            results.append(t)\n",
    "    return results\n",
    "\n",
    "\n",
    "def sort_tokens(tokens: List[Token]) -> List[Token]:\n",
    "    return sorted(tokens, key=lambda x: x.match.start)\n",
    "\n",
    "\n",
    "sort_tokens(tokens_in_range(tokens, Range(2000, 2050)))\n"
   ]
  },
  {
   "cell_type": "code",
   "execution_count": 8,
   "metadata": {},
   "outputs": [
    {
     "data": {
      "text/plain": [
       "[Token(type='word', text='London', match=(2011, 2017)),\n",
       " Token(type='caps', text='L', match=(2011, 2012))]"
      ]
     },
     "execution_count": 8,
     "metadata": {},
     "output_type": "execute_result"
    }
   ],
   "source": [
    "def tokens_starting_at(tokens: List[Token], idx: int) -> List[Token]:\n",
    "    results = []\n",
    "    for t in tokens:\n",
    "        if t.match.start == idx:\n",
    "            results.append(t)\n",
    "    return results\n",
    "\n",
    "tokens_starting_at(tokens, 2011)\n"
   ]
  },
  {
   "cell_type": "code",
   "execution_count": 9,
   "metadata": {},
   "outputs": [],
   "source": [
    "def tokens_with_type(tokens: List[Token], type: str) -> List[Token]:\n",
    "    results = []\n",
    "    for t in tokens:\n",
    "        if t.type == type:\n",
    "            results.append(t)\n",
    "    return results\n",
    "\n",
    "words = tokens_with_type(tokens, 'word')\n",
    "caps = tokens_with_type(tokens, 'caps')\n",
    "\n",
    "cap_words = []\n",
    "cap_indicies = [x.match.start for x in caps]\n",
    "for word in words:\n",
    "    if word.match.start in cap_indicies:\n",
    "        cap_words.append(word.update_type('cap_word'))\n",
    "\n",
    "tokens = tokens + cap_words"
   ]
  },
  {
   "cell_type": "code",
   "execution_count": 10,
   "metadata": {},
   "outputs": [
    {
     "name": "stdout",
     "output_type": "stream",
     "text": [
      "t the fatal battle of\n",
      "Maiwand. There I was struck on the shoulder by a Jezail bullet, which\n",
      "shattered the bone and grazed the subclavian artery. I sho\n",
      "---\n"
     ]
    },
    {
     "data": {
      "text/plain": [
       "[Token(type='whitespace', text=' ', match=(2880, 2881)),\n",
       " Token(type='word', text='There', match=(2881, 2886)),\n",
       " Token(type='caps', text='T', match=(2881, 2882)),\n",
       " Token(type='cap_word', text='There', match=(2881, 2886)),\n",
       " Token(type='whitespace', text=' ', match=(2886, 2887)),\n",
       " Token(type='word', text='I', match=(2887, 2888)),\n",
       " Token(type='caps', text='I', match=(2887, 2888)),\n",
       " Token(type='cap_word', text='I', match=(2887, 2888)),\n",
       " Token(type='whitespace', text=' ', match=(2888, 2889)),\n",
       " Token(type='word', text='was', match=(2889, 2892))]"
      ]
     },
     "execution_count": 10,
     "metadata": {},
     "output_type": "execute_result"
    }
   ],
   "source": [
    "# sentence = r'(WHITESPACE WORD)+(SENT_END)'\n",
    "print(text[2850: 3000])\n",
    "print('---')\n",
    "sort_tokens(tokens_in_range(tokens, Range(2880, 3000)))[:10]\n"
   ]
  },
  {
   "cell_type": "code",
   "execution_count": 11,
   "metadata": {},
   "outputs": [],
   "source": [
    "def next_token(idx: int, tokens: List[Token]) -> List[List[Token]]:\n",
    "    results = []\n",
    "    while len(results) == 0 and idx < len(text):\n",
    "        x = tokens_starting_at(tokens, idx)\n",
    "        if len(x) > 0:\n",
    "            results += x\n",
    "        idx += 1\n",
    "    return results\n",
    "    \n",
    "    \n",
    "x = next_token(2887, tokens)"
   ]
  },
  {
   "cell_type": "code",
   "execution_count": 12,
   "metadata": {},
   "outputs": [
    {
     "name": "stdout",
     "output_type": "stream",
     "text": [
      "[Token(type='whitespace', text=' ', match=(2880, 2881))]\n",
      "[Token(type='word', text='There', match=(2881, 2886)), Token(type='caps', text='T', match=(2881, 2882)), Token(type='cap_word', text='There', match=(2881, 2886))]\n"
     ]
    }
   ],
   "source": [
    "i = 2880\n",
    "allowed_types = ['word']\n",
    "while True:\n",
    "    n = next_token(i, tokens)\n",
    "    print(n)\n",
    "    if len(n) == 1:\n",
    "        i = n[0].match.end\n",
    "    else:\n",
    "        break\n",
    "    "
   ]
  },
  {
   "cell_type": "code",
   "execution_count": 13,
   "metadata": {},
   "outputs": [
    {
     "data": {
      "image/png": "[encoded data removed]",
      "text/plain": [
       "<IPython.core.display.Image object>"
      ]
     },
     "execution_count": 13,
     "metadata": {},
     "output_type": "execute_result"
    }
   ],
   "source": [
    "import networkx as nx\n",
    "from networkx.drawing.nx_agraph import to_agraph \n",
    "\n",
    "G = nx.MultiDiGraph()\n",
    "\n",
    "G.add_node(0, label='cap_word')\n",
    "G.add_node(1, label='word')\n",
    "G.add_node(2, label='whitespace')\n",
    "G.add_node(3, label='sent_end')\n",
    "\n",
    "G.add_edge(0, 2)\n",
    "G.add_edge(0, 3)\n",
    "G.add_edge(1, 2)\n",
    "G.add_edge(2, 1)\n",
    "G.add_edge(1, 3)\n",
    "\n",
    "A = to_agraph(G) \n",
    "A.layout('dot')                                                                 \n",
    "A.draw('multi.png')\n",
    "Image('multi.png')"
   ]
  },
  {
   "cell_type": "code",
   "execution_count": 189,
   "metadata": {},
   "outputs": [
    {
     "name": "stdout",
     "output_type": "stream",
     "text": [
      ">> The\n",
      ">>  \n",
      ">> Project\n",
      ">>  \n",
      ">> Gutenberg\n",
      ">>  \n",
      ">> EBook\n",
      ">>  \n",
      ">> of\n",
      ">>  \n",
      ">> A\n",
      ">>  \n",
      ">> Study\n",
      ">>  \n",
      ">> In\n",
      ">>  \n",
      ">> Scarlet\n",
      ">> Valid Type not found!\n",
      ">> Valid Type not found!\n",
      ">> Valid Type not found!\n",
      ">> Valid Type not found!\n",
      ">> Valid Type not found!\n",
      ">> Valid Type not found!\n",
      ">> Valid Type not found!\n",
      ">> Valid Type not found!\n",
      ">> Valid Type not found!\n",
      ">> Valid Type not found!\n"
     ]
    },
    {
     "data": {
      "text/plain": [
       "[[[Token(type='cap_word', text='The', match=(1, 4)),\n",
       "   [Token(type='whitespace', text=' ', match=(4, 5)),\n",
       "    [Token(type='word', text='Project', match=(5, 12)),\n",
       "     [Token(type='whitespace', text=' ', match=(12, 13)),\n",
       "      [Token(type='word', text='Gutenberg', match=(13, 22)),\n",
       "       [Token(type='whitespace', text=' ', match=(22, 23)),\n",
       "        [Token(type='word', text='EBook', match=(23, 28)),\n",
       "         [Token(type='whitespace', text=' ', match=(28, 29)),\n",
       "          [Token(type='word', text='of', match=(29, 31)),\n",
       "           [Token(type='whitespace', text=' ', match=(31, 32)),\n",
       "            [Token(type='word', text='A', match=(32, 33)),\n",
       "             [Token(type='whitespace', text=' ', match=(33, 34)),\n",
       "              [Token(type='word', text='Study', match=(34, 39)),\n",
       "               [Token(type='whitespace', text=' ', match=(39, 40)),\n",
       "                [Token(type='word', text='In', match=(40, 42)),\n",
       "                 [Token(type='whitespace', text=' ', match=(42, 43)),\n",
       "                  Token(type='word', text='Scarlet', match=(43, 50))]]]]]]]]]]]]]]]]]]"
      ]
     },
     "execution_count": 189,
     "metadata": {},
     "output_type": "execute_result"
    }
   ],
   "source": [
    "def find_algo(nodes, algo: nx.MultiDiGraph, start_index:int = 0, algo_start_index=0):\n",
    "    starts = []\n",
    "    for x in algo.nodes:\n",
    "        if len(algo.in_edges(x)) == 0:\n",
    "            starts.append(x)\n",
    "\n",
    "            \n",
    "    potential_algo_steps = [algo_start_index]\n",
    "    \n",
    "    valid_types = set()\n",
    "    for step_idx in potential_algo_steps:\n",
    "        token_type = algo.nodes[step_idx]['label']\n",
    "        valid_types.add(token_type)\n",
    "\n",
    "    curr = next_token(start_index, nodes)\n",
    "    curr_types = [x.type for x in curr]\n",
    "#     print('>> Current Types:', curr_types)\n",
    "#     print('>> Valid Type Options:', valid_types)\n",
    "    valid_tokens = [x for x in curr if x.type in valid_types]\n",
    "    if len(valid_tokens) == 0:\n",
    "        print('>> Valid Type not found!')\n",
    "        return []\n",
    "#     print('>> Success! Found:', len(valid_tokens), 'token(s)')\n",
    "    possibilities = []\n",
    "    a = False\n",
    "    for token in valid_tokens:\n",
    "        print('>>', token.text)\n",
    "#         print('>> Potential Steps', potential_algo_steps)\n",
    "        for step_idx in potential_algo_steps:\n",
    "            for nxt in algo.neighbors(step_idx):\n",
    "                x = find_algo(nodes, algo, token.match.end, nxt)\n",
    "                if len(x) > 0:\n",
    "                    possibilities.append([[token] + p for p in x])\n",
    "                    a = True\n",
    "    if not a:\n",
    "        possibilities.append([token])\n",
    "#                 return []\n",
    "    \n",
    "    return possibilities\n",
    "\n",
    "\n",
    "# find_algo(tokens, G, 2010)\n",
    "# tokens_with_type(tokens, 'sent_end')[:100]\n",
    "# t = sort_tokens(tokens_in_range(tokens, Range(3696, 4000)))\n",
    "find_algo(sort_tokens(tokens), G, 0, 0)\n",
    "\n",
    "# sort_tokens(tokens)[:100]"
   ]
  },
  {
   "cell_type": "code",
   "execution_count": null,
   "metadata": {},
   "outputs": [],
   "source": [
    " "
   ]
  },
  {
   "cell_type": "code",
   "execution_count": null,
   "metadata": {},
   "outputs": [],
   "source": []
  }
 ],
 "metadata": {
  "kernelspec": {
   "display_name": "Python 3",
   "language": "python",
   "name": "python3"
  },
  "language_info": {
   "codemirror_mode": {
    "name": "ipython",
    "version": 3
   },
   "file_extension": ".py",
   "mimetype": "text/x-python",
   "name": "python",
   "nbconvert_exporter": "python",
   "pygments_lexer": "ipython3",
   "version": "3.6.9"
  }
 },
 "nbformat": 4,
 "nbformat_minor": 2
}
