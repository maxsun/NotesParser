{
 "cells": [
  {
   "cell_type": "code",
   "execution_count": 1,
   "metadata": {
    "ExecuteTime": {
     "end_time": "2020-02-09T04:15:24.042589Z",
     "start_time": "2020-02-09T04:15:24.038156Z"
    }
   },
   "outputs": [],
   "source": [
    "from dataclasses import dataclass\n",
    "from typing import List, Callable, Dict\n"
   ]
  },
  {
   "cell_type": "code",
   "execution_count": 2,
   "metadata": {
    "ExecuteTime": {
     "end_time": "2020-02-09T04:15:24.056455Z",
     "start_time": "2020-02-09T04:15:24.045565Z"
    }
   },
   "outputs": [],
   "source": [
    "\n",
    "@dataclass\n",
    "class Token:\n",
    "    '''Class representing a token with <type> and <value>\n",
    "\n",
    "    Attributes:\n",
    "        type (str): The token type.\n",
    "        value (str): The token value.\n",
    "    '''\n",
    "    type: str\n",
    "    value: str\n",
    "#     target: str = ''\n",
    "\n",
    "    def __repr__(self):\n",
    "        return '({0}: \"{1}\")'.format(self.type, self.value)\n",
    "\n",
    "\n",
    "@dataclass\n",
    "class Block:\n",
    "    '''Class representing a block with an <id> and <content>\n",
    "\n",
    "    Attributes:\n",
    "        id (str): A unique block id, likely a hash of its content. \n",
    "        content (List[Token]): The block's content; a list of tokens.\n",
    "        indent (int): **this should probably be removed**\n",
    "    '''\n",
    "    id: str\n",
    "    content: List[Token]\n",
    "#     indent: int\n",
    "\n",
    "    def __eq__(self, other) -> bool:\n",
    "        return self.id == other.id\n",
    "\n",
    "    def __repr__(self):\n",
    "        return self.id + ': ' + ' '.join([x.value for x in self.content])\n"
   ]
  },
  {
   "cell_type": "code",
   "execution_count": 6,
   "metadata": {
    "ExecuteTime": {
     "end_time": "2020-02-09T04:16:03.774625Z",
     "start_time": "2020-02-09T04:16:03.770885Z"
    }
   },
   "outputs": [
    {
     "name": "stdout",
     "output_type": "stream",
     "text": [
      "(REF: \"George Washington\")\n",
      "<some id>: George Washington\n"
     ]
    }
   ],
   "source": [
    "print(Token('REF', 'George Washington'))\n",
    "print(Block('<some id>', [Token('REF', 'George Washington')]))"
   ]
  },
  {
   "cell_type": "code",
   "execution_count": 7,
   "metadata": {
    "ExecuteTime": {
     "end_time": "2020-02-09T04:16:05.339895Z",
     "start_time": "2020-02-09T04:16:05.330356Z"
    }
   },
   "outputs": [],
   "source": [
    "import re\n",
    "\n",
    "def tokenize(text, groups):\n",
    "    tokens = []\n",
    "\n",
    "    index = 0\n",
    "    while True:\n",
    "        next_matches = []\n",
    "        for gname in groups.keys():\n",
    "            match = re.search(groups[gname]['open'], text[index:])\n",
    "            if match:\n",
    "                next_matches.append((match.span()[0], gname))\n",
    "\n",
    "        if len(next_matches) > 0:\n",
    "            m = min(next_matches, key=lambda x: x[0])\n",
    "            match_index = m[0] + index\n",
    "            match_type = m[1]\n",
    "            close_index = re.search(groups[match_type]['close'], text[match_index:]).span()[1] + match_index\n",
    "\n",
    "            tokens.append(Token('TXT', text[index:match_index]))\n",
    "            tokens.append(Token(match_type, text[match_index:close_index]))\n",
    "            index = close_index\n",
    "        else:\n",
    "            if len(text[index:]) > 0:\n",
    "                tokens.append(Token('TXT', text[index:]))\n",
    "            break\n",
    "\n",
    "    return tokens\n"
   ]
  },
  {
   "cell_type": "code",
   "execution_count": 9,
   "metadata": {
    "ExecuteTime": {
     "end_time": "2020-02-09T04:16:20.418719Z",
     "start_time": "2020-02-09T04:16:20.412629Z"
    }
   },
   "outputs": [
    {
     "data": {
      "text/plain": [
       "[(TXT: \"good \"),\n",
       " (keyword: \"\\bye\"),\n",
       " (TXT: \" \"),\n",
       " (ref: \"[[moon]]\"),\n",
       " (TXT: \"! \"),\n",
       " (keyword: \"\\yay\")]"
      ]
     },
     "execution_count": 9,
     "metadata": {},
     "output_type": "execute_result"
    }
   ],
   "source": [
    "groups = {\n",
    "    'ref': {\n",
    "        'open': r'\\[\\[',\n",
    "        'close': r'\\]\\]'\n",
    "    },\n",
    "    'keyword': {\n",
    "        'open': r'\\\\',\n",
    "        'close': r'.(?=\\s|$)'\n",
    "    }\n",
    "}\n",
    "text = r'good \\bye [[moon]]! \\yay'\n",
    "tokenize(text, groups)"
   ]
  },
  {
   "cell_type": "code",
   "execution_count": null,
   "metadata": {},
   "outputs": [],
   "source": []
  }
 ],
 "metadata": {
  "kernelspec": {
   "display_name": "Python 3",
   "language": "python",
   "name": "python3"
  },
  "language_info": {
   "codemirror_mode": {
    "name": "ipython",
    "version": 3
   },
   "file_extension": ".py",
   "mimetype": "text/x-python",
   "name": "python",
   "nbconvert_exporter": "python",
   "pygments_lexer": "ipython3",
   "version": "3.7.5"
  }
 },
 "nbformat": 4,
 "nbformat_minor": 2
}
