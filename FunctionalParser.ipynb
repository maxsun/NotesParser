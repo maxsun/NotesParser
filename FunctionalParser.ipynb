{
 "cells": [
  {
   "cell_type": "code",
   "execution_count": 1,
   "metadata": {
    "ExecuteTime": {
     "end_time": "2020-02-01T22:53:56.597585Z",
     "start_time": "2020-02-01T22:53:56.554244Z"
    }
   },
   "outputs": [
    {
     "name": "stdout",
     "output_type": "stream",
     "text": [
      "{'content': '0',\n",
      " 'id': '354cdab9e8fe2680',\n",
      " 'indent': [{'type': 'TXT', 'value': 'hello'},\n",
      "            {'type': 'REF', 'value': 'world'}]}\n"
     ]
    }
   ],
   "source": [
    "from lark import Lark, Token, Transformer, Tree\n",
    "from typing import Dict, Tuple, Sequence, List\n",
    "from typing import NewType\n",
    "from pprint import pprint\n",
    "import re\n",
    "\n",
    "\n",
    "Token = Dict[str, str]\n",
    "Block = Dict[str, List[Token]]\n",
    "\n",
    "\n",
    "def token(_type: str, value: str) -> Token:\n",
    "    \"\"\"Returns a token with <_type> and <value>\"\"\"\n",
    "    \n",
    "    return {\n",
    "        'value': value,\n",
    "        'type': _type,\n",
    "    }\n",
    "\n",
    "\n",
    "def block(content: List[Token], indent=0) -> Block:\n",
    "    \"\"\"\n",
    "    Returns a block with <_id> and <content>\n",
    "    <content> is a list of tokens\n",
    "    \"\"\"\n",
    "    \n",
    "    return {\n",
    "        'id': hex(hash(str(content)))[2:],\n",
    "        'content': content,\n",
    "        'indent': indent\n",
    "    }\n",
    "\n",
    "\n",
    "c = [token('TXT', 'hello'), token('REF', 'world')]\n",
    "pprint(block('0', c))"
   ]
  },
  {
   "cell_type": "code",
   "execution_count": 2,
   "metadata": {
    "ExecuteTime": {
     "end_time": "2020-02-01T22:53:56.614253Z",
     "start_time": "2020-02-01T22:53:56.604759Z"
    }
   },
   "outputs": [],
   "source": [
    "text = '''\n",
    "- Earth\n",
    "    - is nice\n",
    "    - also called the [[World]]\n",
    "    - home to [[Human]]s\n",
    "- [[Max]]\n",
    "    - is - a [[Human]]\n",
    "    - likes [[Programming]]\n",
    "- [[Alien]]\n",
    "  - comes from jupiter\n",
    "- [[John]]\n",
    "    - is a [[Alien]]\n",
    "        - which is pretty cool in my opinion\n",
    "        - he's from [[Jupiter]]\n",
    "            - or one of its moons\n",
    "        - he calls himself \"ˆÒØØ\"\n",
    "    - likes [[Programming]]\n",
    "    -\n",
    "- [[Alien]]\n",
    "  - takes you to a leader, [[John]]\n",
    "- [[Max]] is not an [[Alien]]\n",
    "    - and he is not a computer\n",
    "'''\n",
    "lines = re.split(r'(\\s*\\-.*\\n)', text)\n",
    "\n",
    "def extract_tokens(line_text):\n",
    "    words = re.split(r'\\s+', line_text)\n",
    "    references = re.findall(r'(\\[\\[[^\\[|\\]]+\\]\\])+', line_text)\n",
    "    tokens = []\n",
    "    for word in words:\n",
    "        if word in references:\n",
    "            tokens.append(token('REF', word))\n",
    "        else:\n",
    "            tokens.append(token('TXT', word))\n",
    "    return tokens\n",
    "\n",
    "explicit_blocks = []\n",
    "\n",
    "for line in lines:\n",
    "    line = line.replace('\\n', '')\n",
    "    if line:\n",
    "        line_text = re.sub(r'(^\\s*\\-\\s*)', '', line)\n",
    "        if len(line_text.strip()) > 0:\n",
    "            indent = len(line) - len(line.lstrip())\n",
    "            explicit_blocks.append(block(\n",
    "                content=extract_tokens(line_text),\n",
    "                indent=indent\n",
    "            ))\n"
   ]
  },
  {
   "cell_type": "code",
   "execution_count": 3,
   "metadata": {
    "ExecuteTime": {
     "end_time": "2020-02-01T22:53:56.624093Z",
     "start_time": "2020-02-01T22:53:56.617102Z"
    }
   },
   "outputs": [],
   "source": [
    "def filter_blocks(blocks, pred):\n",
    "    results = []\n",
    "    for blk in blocks:\n",
    "        if pred(blk):\n",
    "            results.append(blk)\n",
    "    return results\n",
    "\n",
    "def find_by_token_value(token_value, blocks):\n",
    "    return filter_blocks(\n",
    "        blocks,\n",
    "        lambda b: token_value in [x['value'] for x in b['content']]\n",
    "    )\n",
    "\n",
    "def find_by_token_type(token_type, blocks):\n",
    "    return filter_blocks(\n",
    "        blocks,\n",
    "        lambda b: token_type in [x['type'] for x in b['content']]\n",
    "    )\n",
    "    \n",
    "id_to_block = {}\n",
    "for blk in explicit_blocks:\n",
    "    id_to_block[blk['id']] = blk\n"
   ]
  },
  {
   "cell_type": "code",
   "execution_count": 4,
   "metadata": {
    "ExecuteTime": {
     "end_time": "2020-02-01T22:53:56.632749Z",
     "start_time": "2020-02-01T22:53:56.627062Z"
    }
   },
   "outputs": [],
   "source": [
    "def resolve_parent(child, blocks):\n",
    "    if child not in blocks:\n",
    "        return None\n",
    "    child_index = blocks.index(child)\n",
    "    prev_blocks = blocks[:child_index]\n",
    "    for blk in prev_blocks[::-1]:\n",
    "        if blk['indent'] < child['indent']:\n",
    "            return blk\n",
    "    return None"
   ]
  },
  {
   "cell_type": "code",
   "execution_count": 5,
   "metadata": {
    "ExecuteTime": {
     "end_time": "2020-02-01T22:53:56.640392Z",
     "start_time": "2020-02-01T22:53:56.635418Z"
    }
   },
   "outputs": [],
   "source": [
    "def resolve_immediate_children(parent, blocks):\n",
    "    if parent not in blocks:\n",
    "        return []\n",
    "    return filter_blocks(\n",
    "        blocks[blocks.index(parent) + 1:],\n",
    "        lambda b: resolve_parent(b, blocks) == parent\n",
    "    )\n"
   ]
  },
  {
   "cell_type": "code",
   "execution_count": 6,
   "metadata": {
    "ExecuteTime": {
     "end_time": "2020-02-01T22:53:56.648351Z",
     "start_time": "2020-02-01T22:53:56.644371Z"
    }
   },
   "outputs": [],
   "source": [
    "def get_roots(blocks):\n",
    "    roots = []\n",
    "    for blk in blocks:\n",
    "        if resolve_parent(blk, blocks) is None:\n",
    "            roots.append(blk)\n",
    "    return roots"
   ]
  },
  {
   "cell_type": "code",
   "execution_count": 7,
   "metadata": {
    "ExecuteTime": {
     "end_time": "2020-02-01T22:53:56.665506Z",
     "start_time": "2020-02-01T22:53:56.654017Z"
    }
   },
   "outputs": [
    {
     "name": "stdout",
     "output_type": "stream",
     "text": [
      "x55921ef8dac3679f True\n",
      "72a06f6d5e31ff3a True\n",
      "x4e9bc05e711f82d6 True\n",
      "2a7cd32397905ba2 True\n",
      "6cea34b47a993bc4 True\n",
      "26719b072c44f82e True\n",
      "6a33d92aaf1c2c63 True\n",
      "6a33d92aaf1c2c63 False\n",
      "x606fd4741d574407 True\n",
      "x75d086b67bc3f607 True\n",
      "86fdb6233504cb6 True\n",
      "1fc99648388bd624 True\n",
      "x719e4cfd26f8d31a True\n",
      "x20cadce4089bd7e4 True\n",
      "x40403bcbf01bcd3d True\n",
      "x2628be0a39fe5a0a True\n",
      "6b024f009eb4ffb2 True\n",
      "x606fd4741d574407 False\n",
      "77ba77191c2e0bbb True\n",
      "x9373a95a88831fc True\n"
     ]
    }
   ],
   "source": [
    "\n",
    "def resolve_trees(roots, blocks, successorFunc=resolve_immediate_children, checked=set()):\n",
    "    trees = []\n",
    "    for root in roots:\n",
    "        print(root['id'], root['id'] not in checked)\n",
    "        if root['id'] not in checked:\n",
    "            checked.add(root['id'])\n",
    "            trees.append({\n",
    "                'children': resolve_trees(\n",
    "                    successorFunc(root, blocks),\n",
    "                    blocks,\n",
    "                    successorFunc,\n",
    "                    checked=checked\n",
    "                ),\n",
    "                'data': root\n",
    "            })\n",
    "    return trees\n",
    "\n",
    "trees = resolve_trees(\n",
    "    get_roots(explicit_blocks),\n",
    "    explicit_blocks,\n",
    "    resolve_immediate_children,\n",
    "    set([])\n",
    ")"
   ]
  },
  {
   "cell_type": "code",
   "execution_count": 8,
   "metadata": {
    "ExecuteTime": {
     "end_time": "2020-02-01T22:53:57.282796Z",
     "start_time": "2020-02-01T22:53:56.669373Z"
    }
   },
   "outputs": [
    {
     "data": {
      "image/png": "[encoded data removed]",
      "text/plain": [
       "<IPython.core.display.Image object>"
      ]
     },
     "metadata": {},
     "output_type": "display_data"
    }
   ],
   "source": [
    "import pydot\n",
    "%matplotlib inline\n",
    "%config InlineBackend.figure_format = 'retina'\n",
    "import os\n",
    "from IPython.display import Image, display\n",
    "\n",
    "\n",
    "def tokens_to_str(tokens):\n",
    "    return ' '.join([x['value'] for x in tokens])\n",
    "\n",
    "def draw(graph, parent_name, child_name):\n",
    "    edge = pydot.Edge(parent_name, child_name)\n",
    "    graph.add_edge(edge)\n",
    "    \n",
    "\n",
    "def draw_tree(tree):\n",
    "    graph = pydot.Dot(graph_type='digraph')\n",
    "    def helper(tree):\n",
    "        node_value = tree['data']\n",
    "        node_content = tokens_to_str(node_value['content'])\n",
    "        children = tree['children']\n",
    "        for c in children:\n",
    "            helper(c)\n",
    "            draw(graph, node_content, tokens_to_str(c['data']['content']))\n",
    "    helper(tree)\n",
    "    graph.write_png('example1_graph.png')\n",
    "    display(Image('example1_graph.png'))\n",
    "    os.remove('example1_graph.png')\n",
    "\n",
    "draw_tree(trees[3])\n"
   ]
  },
  {
   "cell_type": "code",
   "execution_count": 9,
   "metadata": {
    "ExecuteTime": {
     "end_time": "2020-02-01T22:53:57.298607Z",
     "start_time": "2020-02-01T22:53:57.287233Z"
    }
   },
   "outputs": [
    {
     "data": {
      "text/plain": [
       "[]"
      ]
     },
     "execution_count": 9,
     "metadata": {},
     "output_type": "execute_result"
    }
   ],
   "source": [
    "def resolve_reference(ref_value, blocks):\n",
    "    for blk in blocks:\n",
    "        if len(blk['content']) == 1 and blk['content'][0]['type'] == 'REF' and blk['content'][0]['value'] == ref_value:\n",
    "            return blk\n",
    "    return block([token('REF', ref_value)], indent=0)\n",
    "\n",
    "def resolve_block_references(blk, blocks):\n",
    "    refs = []\n",
    "    for token in blk['content']:\n",
    "        if token['type'] == 'REF':\n",
    "            refs.append(resolve_reference(token['value'], blocks))\n",
    "    return refs\n",
    "\n",
    "\n",
    "jupiter = resolve_reference('[[Jupiter]]', explicit_blocks)\n",
    "resolve_immediate_children(jupiter, explicit_blocks)\n"
   ]
  },
  {
   "cell_type": "code",
   "execution_count": 10,
   "metadata": {
    "ExecuteTime": {
     "end_time": "2020-02-01T22:53:57.321025Z",
     "start_time": "2020-02-01T22:53:57.302059Z"
    }
   },
   "outputs": [
    {
     "name": "stdout",
     "output_type": "stream",
     "text": [
      "{'id': 'x40403bcbf01bcd3d', 'content': [{'value': \"he's\", 'type': 'TXT'}, {'value': 'from', 'type': 'TXT'}, {'value': '[[Jupiter]]', 'type': 'REF'}], 'indent': 8}\n"
     ]
    },
    {
     "data": {
      "text/plain": [
       "defaultdict(<function __main__.get_links_out.<locals>.<lambda>()>,\n",
       "            {'references': [{'id': 'x1384d2f04523b8a1',\n",
       "               'content': [{'value': '[[Jupiter]]', 'type': 'REF'}],\n",
       "               'indent': 0}],\n",
       "             'children': [{'id': 'x2628be0a39fe5a0a',\n",
       "               'content': [{'value': 'or', 'type': 'TXT'},\n",
       "                {'value': 'one', 'type': 'TXT'},\n",
       "                {'value': 'of', 'type': 'TXT'},\n",
       "                {'value': 'its', 'type': 'TXT'},\n",
       "                {'value': 'moons', 'type': 'TXT'}],\n",
       "               'indent': 12}]})"
      ]
     },
     "execution_count": 10,
     "metadata": {},
     "output_type": "execute_result"
    }
   ],
   "source": [
    "from collections import defaultdict\n",
    "\n",
    "links = {\n",
    "    'references': resolve_block_references,\n",
    "    'children': resolve_immediate_children\n",
    "}\n",
    "    \n",
    "def get_links_out(blk, blocks):\n",
    "    links_out = defaultdict(lambda: [])\n",
    "    for link_type in links:\n",
    "        links_out[link_type] += links[link_type](blk, blocks)\n",
    "    return links_out\n",
    "\n",
    "\n",
    "def get_links_in(blk, blocks):\n",
    "    links_in = defaultdict(lambda: [])\n",
    "    for b in blocks:\n",
    "        b_out = get_links_out(b, blocks)\n",
    "        for link_type in b_out:\n",
    "            if blk in b_out[link_type]:\n",
    "                links_in[link_type].append(b)\n",
    "    return links_in\n",
    "\n",
    "    \n",
    "    \n",
    "\n",
    "x = find_by_token_value('[[Jupiter]]', explicit_blocks)[0]\n",
    "print(x)\n",
    "\n",
    "get_links_out(x, explicit_blocks)\n"
   ]
  },
  {
   "cell_type": "code",
   "execution_count": null,
   "metadata": {
    "ExecuteTime": {
     "end_time": "2020-02-01T22:21:04.797625Z",
     "start_time": "2020-02-01T22:21:04.788177Z"
    }
   },
   "outputs": [],
   "source": []
  },
  {
   "cell_type": "code",
   "execution_count": null,
   "metadata": {},
   "outputs": [],
   "source": []
  }
 ],
 "metadata": {
  "kernelspec": {
   "display_name": "Python 3",
   "language": "python",
   "name": "python3"
  },
  "language_info": {
   "codemirror_mode": {
    "name": "ipython",
    "version": 3
   },
   "file_extension": ".py",
   "mimetype": "text/x-python",
   "name": "python",
   "nbconvert_exporter": "python",
   "pygments_lexer": "ipython3",
   "version": "3.7.5"
  }
 },
 "nbformat": 4,
 "nbformat_minor": 2
}
