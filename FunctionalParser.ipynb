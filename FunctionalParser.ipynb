{
 "cells": [
  {
   "cell_type": "code",
   "execution_count": 32,
   "metadata": {
    "ExecuteTime": {
     "end_time": "2020-02-01T06:59:57.633826Z",
     "start_time": "2020-02-01T06:59:57.624135Z"
    }
   },
   "outputs": [
    {
     "name": "stdout",
     "output_type": "stream",
     "text": [
      "{'content': [{'type': 'TXT', 'value': 'hello'},\n",
      "             {'type': 'REF', 'value': 'world'}],\n",
      " 'id': '0'}\n"
     ]
    }
   ],
   "source": [
    "from lark import Lark, Token, Transformer, Tree\n",
    "from typing import Dict, Tuple, Sequence, List\n",
    "from typing import NewType\n",
    "from pprint import pprint\n",
    "import re\n",
    "\n",
    "\n",
    "Token = Dict[str, str]\n",
    "Block = Dict[str, List[Token]]\n",
    "\n",
    "\n",
    "def token(_type: str, value: str) -> Token:\n",
    "    \"\"\"Returns a token with <_type> and <value>\"\"\"\n",
    "    \n",
    "    return {\n",
    "        'value': value,\n",
    "        'type': _type,\n",
    "    }\n",
    "\n",
    "\n",
    "def block( _id: str, content: List[Token]) -> Block:\n",
    "    \"\"\"\n",
    "    Returns a block with <_id> and <content>\n",
    "    <content> is a list of tokens\n",
    "    \"\"\"\n",
    "    \n",
    "    return {\n",
    "        'id': _id,\n",
    "        'content': content,\n",
    "    }\n",
    "\n",
    "\n",
    "c = [token('TXT', 'hello'), token('REF', 'world')]\n",
    "pprint(block('0', c))"
   ]
  },
  {
   "cell_type": "code",
   "execution_count": 112,
   "metadata": {
    "ExecuteTime": {
     "end_time": "2020-02-01T07:30:48.950658Z",
     "start_time": "2020-02-01T07:30:48.942030Z"
    }
   },
   "outputs": [
    {
     "name": "stdout",
     "output_type": "stream",
     "text": [
      " Earth\n",
      "     also called the [[World]]\n",
      "     home to [[Human]]s\n",
      " [[Max S]]\n",
      "     is - a [[Human]]\n",
      "     likes [[Programming]]\n",
      " John\n",
      "     is a [[Alien]]\n",
      "     likes [[Programming]]\n",
      "     \n",
      " [[Alien]]\n",
      "   takes you to a leader\n",
      " [[Max S]] is not an [[Alien]]\n"
     ]
    }
   ],
   "source": [
    "text = '''\n",
    "- Earth\n",
    "    - also called the [[World]]\n",
    "    - home to [[Human]]s\n",
    "- [[Max S]]\n",
    "    - is - a [[Human]]\n",
    "    - likes [[Programming]]\n",
    "- John\n",
    "    - is a [[Alien]]\n",
    "    - likes [[Programming]]\n",
    "    -\n",
    "- [[Alien]]\n",
    "  - takes you to a leader\n",
    "- [[Max S]] is not an [[Alien]]\n",
    "'''\n",
    "lines = re.split(r'(\\s*\\-.*\\n)', text)\n",
    "for line in lines:\n",
    "    line = line.replace('\\n', '')\n",
    "    if line and len(line.replace(' ', '')) > 0:\n",
    "        line_text = re.sub(r'(^\\s*\\-\\s*)', '', line)\n",
    "        indent = len(line) - len(line.lstrip())\n",
    "        \n",
    "        references = re.findall(r'(\\[\\[[^\\[|\\]]+\\]\\])+', line)\n",
    "        references = [re.sub(r'(\\[\\[)|(\\]\\])', '', x) for x in references]\n",
    "\n",
    "        print(' ' * indent, line_text)\n",
    "        "
   ]
  },
  {
   "cell_type": "code",
   "execution_count": null,
   "metadata": {},
   "outputs": [],
   "source": []
  }
 ],
 "metadata": {
  "kernelspec": {
   "display_name": "Python 3",
   "language": "python",
   "name": "python3"
  },
  "language_info": {
   "codemirror_mode": {
    "name": "ipython",
    "version": 3
   },
   "file_extension": ".py",
   "mimetype": "text/x-python",
   "name": "python",
   "nbconvert_exporter": "python",
   "pygments_lexer": "ipython3",
   "version": "3.7.5"
  }
 },
 "nbformat": 4,
 "nbformat_minor": 2
}
