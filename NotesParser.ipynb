{
 "cells": [
  {
   "cell_type": "code",
   "execution_count": 4,
   "metadata": {
    "ExecuteTime": {
     "end_time": "2020-01-25T07:32:41.944048Z",
     "start_time": "2020-01-25T07:32:41.934524Z"
    }
   },
   "outputs": [
    {
     "ename": "ImportError",
     "evalue": "cannot import name 'larkTree' from 'lark' (/usr/local/lib/python3.7/site-packages/lark/__init__.py)",
     "output_type": "error",
     "traceback": [
      "\u001b[0;31m---------------------------------------------------------------------------\u001b[0m",
      "\u001b[0;31mImportError\u001b[0m                               Traceback (most recent call last)",
      "\u001b[0;32m<ipython-input-4-225dc7d1f259>\u001b[0m in \u001b[0;36m<module>\u001b[0;34m\u001b[0m\n\u001b[1;32m      1\u001b[0m \u001b[0;32mimport\u001b[0m \u001b[0mos\u001b[0m\u001b[0;34m\u001b[0m\u001b[0;34m\u001b[0m\u001b[0m\n\u001b[1;32m      2\u001b[0m \u001b[0;32mfrom\u001b[0m \u001b[0mIPython\u001b[0m\u001b[0;34m.\u001b[0m\u001b[0mdisplay\u001b[0m \u001b[0;32mimport\u001b[0m \u001b[0mImage\u001b[0m\u001b[0;34m,\u001b[0m \u001b[0mdisplay\u001b[0m\u001b[0;34m\u001b[0m\u001b[0;34m\u001b[0m\u001b[0m\n\u001b[0;32m----> 3\u001b[0;31m \u001b[0;32mfrom\u001b[0m \u001b[0mlark\u001b[0m \u001b[0;32mimport\u001b[0m \u001b[0mLark\u001b[0m\u001b[0;34m,\u001b[0m \u001b[0mTransformer\u001b[0m\u001b[0;34m,\u001b[0m \u001b[0mlarkTree\u001b[0m\u001b[0;34m\u001b[0m\u001b[0;34m\u001b[0m\u001b[0m\n\u001b[0m\u001b[1;32m      4\u001b[0m \u001b[0;32mfrom\u001b[0m \u001b[0mlark\u001b[0m\u001b[0;34m.\u001b[0m\u001b[0mindenter\u001b[0m \u001b[0;32mimport\u001b[0m \u001b[0mIndenter\u001b[0m\u001b[0;34m\u001b[0m\u001b[0;34m\u001b[0m\u001b[0m\n\u001b[1;32m      5\u001b[0m \u001b[0;34m\u001b[0m\u001b[0m\n",
      "\u001b[0;31mImportError\u001b[0m: cannot import name 'larkTree' from 'lark' (/usr/local/lib/python3.7/site-packages/lark/__init__.py)"
     ]
    }
   ],
   "source": [
    "import os\n",
    "from IPython.display import Image, display\n",
    "from lark import Lark, Transformer, larkTree\n",
    "from lark.indenter import Indenter\n",
    "\n",
    "def display_tree(t, filename='viz.png'):\n",
    "    larkTree.pydot__tree_to_png(t, filename)\n",
    "    display(Image(filename))\n",
    "    os.remove(filename)\n"
   ]
  },
  {
   "cell_type": "code",
   "execution_count": 2,
   "metadata": {
    "ExecuteTime": {
     "end_time": "2020-01-25T07:32:14.928166Z",
     "start_time": "2020-01-25T07:32:14.727252Z"
    }
   },
   "outputs": [
    {
     "ename": "NameError",
     "evalue": "name 'larkTree' is not defined",
     "output_type": "error",
     "traceback": [
      "\u001b[0;31m---------------------------------------------------------------------------\u001b[0m",
      "\u001b[0;31mNameError\u001b[0m                                 Traceback (most recent call last)",
      "\u001b[0;32m<ipython-input-2-0fcb28ec6909>\u001b[0m in \u001b[0;36m<module>\u001b[0;34m\u001b[0m\n\u001b[1;32m     43\u001b[0m \u001b[0;34m\u001b[0m\u001b[0m\n\u001b[1;32m     44\u001b[0m \u001b[0mt\u001b[0m \u001b[0;34m=\u001b[0m \u001b[0mparser\u001b[0m\u001b[0;34m.\u001b[0m\u001b[0mparse\u001b[0m\u001b[0;34m(\u001b[0m\u001b[0mtest_tree\u001b[0m\u001b[0;34m)\u001b[0m\u001b[0;34m\u001b[0m\u001b[0;34m\u001b[0m\u001b[0m\n\u001b[0;32m---> 45\u001b[0;31m \u001b[0mdisplay_tree\u001b[0m\u001b[0;34m(\u001b[0m\u001b[0mparser\u001b[0m\u001b[0;34m.\u001b[0m\u001b[0mparse\u001b[0m\u001b[0;34m(\u001b[0m\u001b[0mtest_tree\u001b[0m\u001b[0;34m)\u001b[0m\u001b[0;34m)\u001b[0m\u001b[0;34m\u001b[0m\u001b[0;34m\u001b[0m\u001b[0m\n\u001b[0m",
      "\u001b[0;32m<ipython-input-1-50d80c476897>\u001b[0m in \u001b[0;36mdisplay_tree\u001b[0;34m(t, filename)\u001b[0m\n\u001b[1;32m      3\u001b[0m \u001b[0;34m\u001b[0m\u001b[0m\n\u001b[1;32m      4\u001b[0m \u001b[0;32mdef\u001b[0m \u001b[0mdisplay_tree\u001b[0m\u001b[0;34m(\u001b[0m\u001b[0mt\u001b[0m\u001b[0;34m,\u001b[0m \u001b[0mfilename\u001b[0m\u001b[0;34m=\u001b[0m\u001b[0;34m'viz.png'\u001b[0m\u001b[0;34m)\u001b[0m\u001b[0;34m:\u001b[0m\u001b[0;34m\u001b[0m\u001b[0;34m\u001b[0m\u001b[0m\n\u001b[0;32m----> 5\u001b[0;31m     \u001b[0mlarkTree\u001b[0m\u001b[0;34m.\u001b[0m\u001b[0mpydot__tree_to_png\u001b[0m\u001b[0;34m(\u001b[0m\u001b[0mt\u001b[0m\u001b[0;34m,\u001b[0m \u001b[0mfilename\u001b[0m\u001b[0;34m)\u001b[0m\u001b[0;34m\u001b[0m\u001b[0;34m\u001b[0m\u001b[0m\n\u001b[0m\u001b[1;32m      6\u001b[0m     \u001b[0mdisplay\u001b[0m\u001b[0;34m(\u001b[0m\u001b[0mImage\u001b[0m\u001b[0;34m(\u001b[0m\u001b[0mfilename\u001b[0m\u001b[0;34m)\u001b[0m\u001b[0;34m)\u001b[0m\u001b[0;34m\u001b[0m\u001b[0;34m\u001b[0m\u001b[0m\n\u001b[1;32m      7\u001b[0m     \u001b[0mos\u001b[0m\u001b[0;34m.\u001b[0m\u001b[0mremove\u001b[0m\u001b[0;34m(\u001b[0m\u001b[0mfilename\u001b[0m\u001b[0;34m)\u001b[0m\u001b[0;34m\u001b[0m\u001b[0;34m\u001b[0m\u001b[0m\n",
      "\u001b[0;31mNameError\u001b[0m: name 'larkTree' is not defined"
     ]
    }
   ],
   "source": [
    "\n",
    "\n",
    "tree_grammar = r\"\"\"\n",
    "    ?start: (_NL* block)+\n",
    "    block: \"- \" line _NL [_INDENT block+ _DEDENT]\n",
    "    line: (WORD*)\n",
    "    %import common.CNAME -> WORD\n",
    "    %import common.WS_INLINE\n",
    "    %declare _INDENT _DEDENT\n",
    "    %ignore WS_INLINE\n",
    "    _NL: /(\\r?\\n(\\s)*)+/\n",
    "\"\"\"\n",
    "\n",
    "class TreeIndenter(Indenter):\n",
    "    NL_type = '_NL'\n",
    "    OPEN_PAREN_types = []\n",
    "    CLOSE_PAREN_types = []\n",
    "    INDENT_type = '_INDENT'\n",
    "    DEDENT_type = '_DEDENT'\n",
    "    tab_len = 4\n",
    "\n",
    "class BasicTransformer(Transformer):\n",
    "    line = list\n",
    "    \n",
    "parser = Lark(\n",
    "    tree_grammar,\n",
    "    parser='lalr',\n",
    "    postlex=TreeIndenter(),\n",
    "    transformer=BasicTransformer)\n",
    "\n",
    "test_tree = \"\"\"\n",
    "\n",
    "- hello world\n",
    "- goodbye moon\n",
    "  - a\n",
    "  - b\n",
    "  - c\n",
    "    - nested2\n",
    "- My name is max\n",
    "\n",
    "\"\"\"\n",
    "\n",
    "t = parser.parse(test_tree)\n",
    "display_tree(parser.parse(test_tree))"
   ]
  },
  {
   "cell_type": "code",
   "execution_count": 3,
   "metadata": {
    "ExecuteTime": {
     "end_time": "2020-01-25T07:32:16.002843Z",
     "start_time": "2020-01-25T07:32:15.995881Z"
    }
   },
   "outputs": [
    {
     "name": "stdout",
     "output_type": "stream",
     "text": [
      "\n",
      "None [Token(WORD, 'hello'), Token(WORD, 'world')]\n",
      "\n",
      "None [Token(WORD, 'goodbye'), Token(WORD, 'moon')]\n",
      "\n",
      "[Token(WORD, 'goodbye'), Token(WORD, 'moon')] [Token(WORD, 'a')]\n",
      "\n",
      "[Token(WORD, 'goodbye'), Token(WORD, 'moon')] [Token(WORD, 'b')]\n",
      "\n",
      "[Token(WORD, 'goodbye'), Token(WORD, 'moon')] [Token(WORD, 'c')]\n",
      "\n",
      "[Token(WORD, 'c')] [Token(WORD, 'nested2')]\n",
      "\n",
      "None [Token(WORD, 'My'), Token(WORD, 'name'), Token(WORD, 'is'), Token(WORD, 'max')]\n"
     ]
    }
   ],
   "source": [
    "\n",
    "def parse_blocks(blocks, parent=None):\n",
    "    for block in blocks:\n",
    "        block_text = block.children[0]\n",
    "        block_children = block.children[1:]\n",
    "        print()\n",
    "        print(parent, block_text)\n",
    "        parse_blocks(block_children, parent=block_text)\n",
    "    \n",
    "parse_blocks(t.children)\n"
   ]
  },
  {
   "cell_type": "code",
   "execution_count": null,
   "metadata": {
    "ExecuteTime": {
     "end_time": "2020-01-25T07:29:21.118129Z",
     "start_time": "2020-01-25T07:29:21.114524Z"
    }
   },
   "outputs": [],
   "source": []
  },
  {
   "cell_type": "code",
   "execution_count": null,
   "metadata": {},
   "outputs": [],
   "source": []
  }
 ],
 "metadata": {
  "kernelspec": {
   "display_name": "Python 3",
   "language": "python",
   "name": "python3"
  },
  "language_info": {
   "codemirror_mode": {
    "name": "ipython",
    "version": 3
   },
   "file_extension": ".py",
   "mimetype": "text/x-python",
   "name": "python",
   "nbconvert_exporter": "python",
   "pygments_lexer": "ipython3",
   "version": "3.7.5"
  }
 },
 "nbformat": 4,
 "nbformat_minor": 2
}
